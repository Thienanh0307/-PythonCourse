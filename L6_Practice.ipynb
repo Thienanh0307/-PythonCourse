{
 "cells": [
  {
   "cell_type": "markdown",
   "id": "11c002d7",
   "metadata": {},
   "source": [
    "## Bài 1: Xác định nguyên âm|phụ âm\n",
    "---\n",
    "Nhập vào một ký tự chữ cái bất kỳ(không phân biệt chữ hoa-chữ thường), cho biết nó là nguyên âm hay phụ âm trong tiếng anh. \n",
    "* 5 chữ cái nguyên âm: **U, E, O, A, I**\n",
    "* 21 Chữ cái phụ âm: **B, C, D, F, G, H, J K, L, M, N, P, Q, R, S, T, V, W, X, Y, Z**"
   ]
  },
  {
   "cell_type": "code",
   "execution_count": 3,
   "id": "628f9679",
   "metadata": {},
   "outputs": [
    {
     "name": "stdout",
     "output_type": "stream",
     "text": [
      "La phu am\n"
     ]
    }
   ],
   "source": [
    "chu = input('Hay nhap mot chu cai bat ky')\n",
    "while len(chu) > 1 or len(chu) == 0:\n",
    "    chu = input('Hay nhap mot chu cai bat ky')\n",
    "if chu in('u','e','i','a','o','i','U','E','O','A','I'):\n",
    "    print('La nguyen am ')\n",
    "else :\n",
    "    print('La phu am')"
   ]
  },
  {
   "cell_type": "code",
   "execution_count": null,
   "id": "8a24d025",
   "metadata": {},
   "outputs": [],
   "source": []
  },
  {
   "cell_type": "code",
   "execution_count": null,
   "id": "ae7a47e9",
   "metadata": {},
   "outputs": [],
   "source": []
  },
  {
   "cell_type": "markdown",
   "id": "04169c34",
   "metadata": {},
   "source": [
    "## Bài 2: Tính chỉ số BMI\n",
    "---\n",
    "Nhập vào chiều cao (m) và cân nặng (kg) rồi tính chỉ số BMI của người đó theo công thức:\n",
    "\n",
    "* BMI = Weight(Kg) / Height(m) ^2 \n",
    "\n",
    "Dựa vào chỉ số BMI tính được đưa ra nhận xét về cơ thể của người đó theo các mức:\n",
    "* Underweight: BMI<18.5\n",
    "* NormalWeight: 18.5 <= BMI <= 24.9\n",
    "* Overweight: 25 <= BMI <=29.9\n",
    "* Obese: BMI>=30"
   ]
  },
  {
   "cell_type": "code",
   "execution_count": 4,
   "id": "b2d483f9",
   "metadata": {},
   "outputs": [
    {
     "name": "stdout",
     "output_type": "stream",
     "text": [
      "Chi so BMI 23.510204081632654\n",
      "NormalWeight\n"
     ]
    }
   ],
   "source": [
    "wei = int(input('Can nang cua ban(Kg):'))\n",
    "hei = float(input('Chieu cao cua ban(m):'))\n",
    "BMI = wei / pow(hei,2)\n",
    "print('Chi so BMI',BMI)\n",
    "if BMI < 18.5:\n",
    "    print('Underweight')\n",
    "if BMI >= 18.5 and BMI <= 24.9:\n",
    "    print('NormalWeight')\n",
    "if BMI >= 25 and BMI <= 29.9:\n",
    "    print('Overweight')\n",
    "if BMI >= 30:\n",
    "    print('Obese')"
   ]
  },
  {
   "cell_type": "code",
   "execution_count": null,
   "id": "467ba1eb",
   "metadata": {},
   "outputs": [],
   "source": []
  },
  {
   "cell_type": "markdown",
   "id": "2e9f2296",
   "metadata": {},
   "source": [
    "## Bài 3: Xác định mùa trong năm!\n",
    "---\n",
    "Nhập vào tháng sinh của bạn và cho biết bạn sinh vào mùa nào?\n",
    "\n",
    "**Yêu cầu:**\n",
    "* Nếu 1, 2, 3: Bạn sinh vào Mùa xuân\n",
    "* Nếu 4, 5, 6: Bạn sinh vào Mùa hạ\n",
    "* Nếu 7, 8, 9: Bạn sinh vào Mùa thu\n",
    "* Nếu 10, 11, 12: Bạn sinh vào Mùa đông\n",
    "* <1 hoặc >12: Tháng sinh nhập vào không đúng\n"
   ]
  },
  {
   "cell_type": "code",
   "execution_count": 5,
   "id": "5d4da8d8",
   "metadata": {},
   "outputs": [
    {
     "name": "stdout",
     "output_type": "stream",
     "text": [
      "Ban sinh vao Mua thu\n"
     ]
    }
   ],
   "source": [
    "thang = int(input('Hay nhap vao thang sinh:'))\n",
    "while thang < 1 or thang > 12:\n",
    "    thang = int(input('Thang sinh cua ban khong dung , hay nhap lai:'))\n",
    "if thang <= 3:\n",
    "    print('Ban sinh vao Mua xuan')\n",
    "if thang > 3 and thang <= 6 :\n",
    "    print('Ban sinh vao Mua ha')\n",
    "if thang > 6 and thang <= 9 :\n",
    "    print('Ban sinh vao Mua thu')\n",
    "if thang > 9 and thang <= 12 :\n",
    "    print('Ban sinh vao Mua Dong')"
   ]
  },
  {
   "cell_type": "code",
   "execution_count": null,
   "id": "059b16a1",
   "metadata": {},
   "outputs": [],
   "source": []
  },
  {
   "cell_type": "markdown",
   "id": "2956befd",
   "metadata": {},
   "source": [
    "## Bài 4: Hiển thị bảng cửu chương!\n",
    "---\n",
    "Nhập vào bảng cửu chương muốn in (1 – 10), hiển thị bảng cửu chương tương ứng với số vừa nhập. (Lưu ý: Thực hiện kiểm tra giá trị nhập, chỉ thỏa mãn khi giá trị nhập vào trong khoảng [1,10] \n",
    "\n",
    "*Xem minh họa bài tập trong file bài tập!*"
   ]
  },
  {
   "cell_type": "code",
   "execution_count": 6,
   "id": "e7e61540",
   "metadata": {},
   "outputs": [
    {
     "name": "stdout",
     "output_type": "stream",
     "text": [
      "8 * 1 = 8\n",
      "8 * 2 = 16\n",
      "8 * 3 = 24\n",
      "8 * 4 = 32\n",
      "8 * 5 = 40\n",
      "8 * 6 = 48\n",
      "8 * 7 = 56\n",
      "8 * 8 = 64\n",
      "8 * 9 = 72\n",
      "8 * 10 = 80\n"
     ]
    }
   ],
   "source": [
    "nhan = int(input('Ban muon bang cuu chuong so may(1-10):'))\n",
    "while nhan < 1 or nhan > 10:\n",
    "    nhan = int(input('Ban muon bang cuu chuong so may(1-10):'))\n",
    "for i in range(1,11):\n",
    "    print(nhan , '*' , i , '=' , nhan * i)\n"
   ]
  },
  {
   "cell_type": "markdown",
   "id": "015d311a",
   "metadata": {},
   "source": [
    "## Bài 5: Kiểm tra N có là số nguyên tố?\n",
    "---\n",
    "Nhập vào số tự nhiên N, cho biết N có phải là số nguyên tố hay không? (Số nguyên tố là số lớn hơn 1, chỉ chia hết cho 1 và chính nó)\n"
   ]
  },
  {
   "cell_type": "code",
   "execution_count": 10,
   "id": "ec273ad6",
   "metadata": {},
   "outputs": [
    {
     "name": "stdout",
     "output_type": "stream",
     "text": [
      "La so nguyen to\n"
     ]
    }
   ],
   "source": [
    "def so_nguyen_to(n):\n",
    "    dem = 0\n",
    "    for i in range(1,n+1):\n",
    "        if n % i == 0:\n",
    "            dem = dem + 1\n",
    "    return dem\n",
    "    \n",
    "n = int(input('Hay chon mot so nguyen duong:'))\n",
    "while n <= 1:\n",
    "    n = int(input('Hay chon mot so nguyen duong > 1:'))\n",
    "if so_nguyen_to(n) == 2:\n",
    "    print('La so nguyen to')\n",
    "else:\n",
    "    print('Khong phai la so nguyen to')"
   ]
  },
  {
   "cell_type": "markdown",
   "id": "a7c8c055",
   "metadata": {},
   "source": [
    "## Bài 6: dãy số nguyên tố\n",
    "---\n",
    "Nhập vào một số N, hiển thị các số nguyên tố từ 2 tới N:\n"
   ]
  },
  {
   "cell_type": "code",
   "execution_count": 25,
   "id": "5bb98ea5",
   "metadata": {},
   "outputs": [
    {
     "name": "stdout",
     "output_type": "stream",
     "text": [
      "2\n",
      "3\n",
      "5\n",
      "7\n",
      "11\n",
      "13\n"
     ]
    }
   ],
   "source": [
    "def nguyen_to(n):\n",
    "    dem = 0\n",
    "    for i in range(1,n+1):\n",
    "        if n % i == 0:\n",
    "            dem = dem + 1\n",
    "    if dem == 2:\n",
    "        return True\n",
    "    else:\n",
    "        return False\n",
    "    \n",
    "        \n",
    "\n",
    "so = int(input('Hay chon mot so nguyen duong:'))\n",
    "while so <= 1:\n",
    "    so = int(input('Hay chon mot so nguyen duong > 1:'))\n",
    "for i in range(2,so+1):\n",
    "    if nguyen_to(i):\n",
    "        print(i)"
   ]
  },
  {
   "cell_type": "code",
   "execution_count": null,
   "id": "2ce94625",
   "metadata": {},
   "outputs": [],
   "source": []
  },
  {
   "cell_type": "markdown",
   "id": "4068fd64",
   "metadata": {},
   "source": [
    "## BÀI 7:\n",
    "---\n",
    "1)\n",
    "Danh sách list1 bao gồm các ký tự (A-Z):\n",
    "\n",
    "ví dụ: list1 = ['A','F','G','A','C','H','J','B','K']\n",
    "\n",
    "sử dụng list comprehension tạo danh sách list2 với điều kiện:\n",
    "* các ký tự Nguyên âm trong list1 thêm '-NA' vào sau\n",
    "* các ký tự Phụ âm trong list1 thêm '-PA'\n",
    "\n",
    "kết quả: list2 = ['A-NA', 'F-PA', 'G-PA', 'A-NA', 'C-PA', 'H-PA', 'J-PA', 'B-PA', 'K-PA']"
   ]
  },
  {
   "cell_type": "code",
   "execution_count": null,
   "id": "26857a86",
   "metadata": {},
   "outputs": [],
   "source": [
    "list1 = []\n",
    "list2 = []\n",
    "for i in range(1,27):\n",
    "    list1.append(chr(ord('@')+i))\n",
    "\n",
    "for j in range(1,27):\n",
    "    if j == 1 :\n",
    "        list2.append(chr(ord('@')+j) + \"-NA\")\n",
    "    if j == 5:\n",
    "        list2.append(chr(ord('@')+j) + \"-NA\")\n",
    "    if j == 9 :\n",
    "        list2.append(chr(ord('@')+j) + \"-NA\")\n",
    "    if j == 15:\n",
    "        list2.append(chr(ord('@')+j) + \"-NA\")\n",
    "    if j == 21:\n",
    "        list2.append(chr(ord('@')+j) + \"-NA\")\n",
    "    else:\n",
    "        list2.append(chr(ord('@')+j) + \"-PA\")\n",
    "\n",
    "\n",
    "print(list2)\n"
   ]
  },
  {
   "cell_type": "code",
   "execution_count": null,
   "id": "df266058",
   "metadata": {},
   "outputs": [],
   "source": []
  },
  {
   "cell_type": "markdown",
   "id": "a312edfb",
   "metadata": {},
   "source": [
    "## BÀI 8:\n",
    "---\n",
    "Khởi tạo một biến tuple lưu chiều cao của sinh viên trong một lớp (m). Thực hiện:\n",
    "\n",
    "    * 1) Hiển thị chiều cao của sinh viên cao nhất – thấp nhất trong lớp\n",
    "    * 2) Tính chiều cao trung bình (TB) của sinh viên trong lớp.\n",
    "    * 3) Số lượng sinh viên trong lớp có chiều cao bằng chiều cao TB của lớp.\n",
    "    * 4) Số lượng sinh viên trong lớp có chiều cao lớn chiều cao TB của lớp."
   ]
  },
  {
   "cell_type": "code",
   "execution_count": null,
   "id": "9d9ff489",
   "metadata": {},
   "outputs": [],
   "source": [
    "def ca_tb(d,m):\n",
    "    return d/m\n",
    "\n",
    "\n",
    "m =int(input('Co bao nhieu sinh vien trong lop ban'))\n",
    "a = [None]*m\n",
    "d = 0\n",
    "g = 0\n",
    "h = 0\n",
    "for i in range(0,m):\n",
    "    a[i] = int(input(f'Sinh vien {i+1}'))\n",
    "    d = d + a[i]\n",
    "for i in range(0,m):\n",
    "    if a[i] > ca_tb(d,m):\n",
    "        g = g + 1\n",
    "    if a[i] == ca_tb(d,m):\n",
    "        h = h + 1\n",
    "\n",
    "\n",
    "print(max(a))\n",
    "print(min(a))\n",
    "print(ca_tb(d,m))\n",
    "print(h)\n",
    "print(g)"
   ]
  },
  {
   "cell_type": "code",
   "execution_count": null,
   "id": "0be9b98c",
   "metadata": {},
   "outputs": [],
   "source": []
  },
  {
   "cell_type": "markdown",
   "id": "dbe0f182",
   "metadata": {},
   "source": [
    "## Bài 9:\n",
    "---\n",
    "7. Xây dựng hàm thực hiện chức năng sau theo phương pháp đệ quy:\n",
    "Truyền vào một số tự nhiên N, \n",
    "    * Nếu N là số chẵn tính tổng tất cả các số chẵn từ 0 tới N\n",
    "    * Nếu N là số lẻ tỉnh tổng tất cả các số lẻ từ 1 tới N"
   ]
  },
  {
   "cell_type": "code",
   "execution_count": null,
   "id": "4233dbb4",
   "metadata": {},
   "outputs": [],
   "source": [
    "def tong_n(n):\n",
    "    if n <=0:\n",
    "        return 0\n",
    "    else:\n",
    "        return n + tong_n(n-2)\n",
    "\n",
    "n = int(input('Hay nhap so tu nhien ban muon'))\n",
    "print(tong_n(n))"
   ]
  },
  {
   "cell_type": "code",
   "execution_count": null,
   "id": "d00dfa97",
   "metadata": {},
   "outputs": [],
   "source": []
  },
  {
   "cell_type": "markdown",
   "id": "cb1cab51",
   "metadata": {},
   "source": [
    "## BÀI 10: Xây dựng lớp Person:\n",
    "---\n",
    "1. Gồm các Thuộc tính: \n",
    "    * họ tên (name), năm sinh (year), chiều cao height), cân nặng (weight)\n",
    "    * Giá trị mặc định của các thuộc tính là thông tin của bạn\n",
    "\n",
    "2. Gồm các Phương thức: \n",
    "    * Geeting(): Hiển thị thông tin của Person\n",
    "    * BMI(): Tính toán theo chỉ số BMI của Person"
   ]
  },
  {
   "cell_type": "code",
   "execution_count": null,
   "id": "7b622213",
   "metadata": {},
   "outputs": [],
   "source": []
  },
  {
   "cell_type": "code",
   "execution_count": null,
   "id": "37425415",
   "metadata": {},
   "outputs": [],
   "source": []
  }
 ],
 "metadata": {
  "kernelspec": {
   "display_name": "Python 3.9.13 64-bit",
   "language": "python",
   "name": "python3"
  },
  "language_info": {
   "codemirror_mode": {
    "name": "ipython",
    "version": 3
   },
   "file_extension": ".py",
   "mimetype": "text/x-python",
   "name": "python",
   "nbconvert_exporter": "python",
   "pygments_lexer": "ipython3",
   "version": "3.9.13"
  },
  "vscode": {
   "interpreter": {
    "hash": "9d2e2287b90f84c05b564773cad156a65fe051f83fa7c81a3ad23c3ed1bf9926"
   }
  }
 },
 "nbformat": 4,
 "nbformat_minor": 5
}
